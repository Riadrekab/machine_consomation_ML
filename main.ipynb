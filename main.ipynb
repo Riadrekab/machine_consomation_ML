{
 "cells": [
  {
   "attachments": {},
   "cell_type": "markdown",
   "metadata": {},
   "source": [
    "# Introduction:\n",
    "\n",
    "This ipynb file is used to build a model for a time series classification problem. \n",
    "<br>\n",
    "\n",
    "We will start by : \n",
    "<br>\n",
    "1- Importing the training datasets.\n",
    "<br>\n",
    "2- Merge the two datasets \n",
    "<br>\n",
    "3- Add new features (Mean, median, etc...)"
   ]
  },
  {
   "cell_type": "code",
   "execution_count": 7,
   "metadata": {},
   "outputs": [],
   "source": [
    "import pandas as pd\n",
    "dfX= pd.read_csv(\"inputTrain.csv\")\n",
    "dfY = pd.read_csv(\"StepOne_LabelTrain.csv\")\n",
    "\n"
   ]
  },
  {
   "cell_type": "code",
   "execution_count": 8,
   "metadata": {},
   "outputs": [],
   "source": [
    "\n",
    "# dfC = pd.merge(dfX, dfY, on='Index')\n",
    "# dfC = dfC.drop([\"House_id_y\"],axis=1)\n"
   ]
  }
 ],
 "metadata": {
  "kernelspec": {
   "display_name": "Python 3",
   "language": "python",
   "name": "python3"
  },
  "language_info": {
   "codemirror_mode": {
    "name": "ipython",
    "version": 3
   },
   "file_extension": ".py",
   "mimetype": "text/x-python",
   "name": "python",
   "nbconvert_exporter": "python",
   "pygments_lexer": "ipython3",
   "version": "3.10.8"
  },
  "orig_nbformat": 4
 },
 "nbformat": 4,
 "nbformat_minor": 2
}
