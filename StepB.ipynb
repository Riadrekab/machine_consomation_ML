{
 "cells": [
  {
   "cell_type": "code",
   "execution_count": 3,
   "metadata": {},
   "outputs": [],
   "source": [
    "import pandas as pd\n",
    "\n",
    "X = pd.read_csv(\"InputTrain.csv\").iloc[:,2:]\n",
    "Y1 = pd.read_csv(\"StepTwo_LabelTrain_WashingMachine.csv\").iloc[:,2:]\n",
    "Y2 = pd.read_csv(\"StepTwo_LabelTrain_Dishwasher.csv\").iloc[:,2:]\n",
    "Y3 = pd.read_csv(\"StepTwo_LabelTrain_TumbleDryer.csv\").iloc[:,2:]\n",
    "Y4 = pd.read_csv(\"StepTwo_LabelTrain_Microwave.csv\").iloc[:,2:]\n",
    "Y5 = pd.read_csv(\"StepTwo_LabelTrain_Kettle.csv\").iloc[:,2:]\n",
    "dfXTest = pd.read_csv(\"InputTest.csv\").iloc[:,2:]\n"
   ]
  },
  {
   "cell_type": "code",
   "execution_count": 4,
   "metadata": {},
   "outputs": [],
   "source": [
    "from sklearn.preprocessing import StandardScaler\n",
    "consumption_values = dfXTest.values\n",
    "consumption_values = consumption_values.reshape(consumption_values.shape[0], -1)\n",
    "\n",
    "# Remove the mean and scale the values to have unit variance\n",
    "scaler = StandardScaler()\n",
    "normalized_consumption_values = scaler.fit_transform(consumption_values)\n",
    "dfXTest.iloc[:, 0:] = normalized_consumption_values.reshape(normalized_consumption_values.shape[0], -1)\n"
   ]
  },
  {
   "cell_type": "code",
   "execution_count": 5,
   "metadata": {},
   "outputs": [],
   "source": [
    "from sklearn.preprocessing import StandardScaler\n",
    "consumption_values = X.values\n",
    "consumption_values = consumption_values.reshape(consumption_values.shape[0], -1)\n",
    "\n",
    "# Remove the mean and scale the values to have unit variance\n",
    "scaler = StandardScaler()\n",
    "normalized_consumption_values = scaler.fit_transform(consumption_values)\n",
    "X.iloc[:, 0:] = normalized_consumption_values.reshape(normalized_consumption_values.shape[0], -1)\n"
   ]
  },
  {
   "cell_type": "code",
   "execution_count": 6,
   "metadata": {},
   "outputs": [
    {
     "data": {
      "text/plain": [
       "0.0    2130\n",
       "1.0      29\n",
       "Name: value, dtype: int64"
      ]
     },
     "execution_count": 6,
     "metadata": {},
     "output_type": "execute_result"
    }
   ],
   "source": [
    "y1 = Y1.melt().iloc[:,1]\n",
    "y1.head(2159).value_counts()"
   ]
  },
  {
   "cell_type": "code",
   "execution_count": 12,
   "metadata": {},
   "outputs": [],
   "source": [
    "y1 = pd.DataFrame()\n",
    "\n",
    "# Iterate over each row of the original dataframe and append the transposed row to the new dataframe\n",
    "for i in range(len(Y1)):\n",
    "    y1 = pd.concat([y1, pd.DataFrame(Y1.iloc[i].values.reshape(1, -1).T)])\n"
   ]
  },
  {
   "cell_type": "code",
   "execution_count": 17,
   "metadata": {},
   "outputs": [],
   "source": [
    "y2 = pd.DataFrame()\n",
    "\n",
    "# Iterate over each row of the original dataframe and append the transposed row to the new dataframe\n",
    "for i in range(len(Y1)):\n",
    "    y2 = pd.concat([y2, pd.DataFrame(Y2.iloc[i].values.reshape(1, -1).T)])"
   ]
  },
  {
   "cell_type": "code",
   "execution_count": 14,
   "metadata": {},
   "outputs": [],
   "source": [
    "y3 = pd.DataFrame()\n",
    "\n",
    "# Iterate over each row of the original dataframe and append the transposed row to the new dataframe\n",
    "for i in range(len(Y3)):\n",
    "    y3 = pd.concat([y3, pd.DataFrame(Y3.iloc[i].values.reshape(1, -1).T)])"
   ]
  },
  {
   "cell_type": "code",
   "execution_count": 15,
   "metadata": {},
   "outputs": [],
   "source": [
    "y4 = pd.DataFrame()\n",
    "\n",
    "# Iterate over each row of the original dataframe and append the transposed row to the new dataframe\n",
    "for i in range(len(Y4)):\n",
    "    y4 = pd.concat([y4, pd.DataFrame(Y4.iloc[i].values.reshape(1, -1).T)])"
   ]
  },
  {
   "cell_type": "code",
   "execution_count": 16,
   "metadata": {},
   "outputs": [],
   "source": [
    "y5 = pd.DataFrame()\n",
    "\n",
    "# Iterate over each row of the original dataframe and append the transposed row to the new dataframe\n",
    "for i in range(len(Y5)):\n",
    "    y5 = pd.concat([y5, pd.DataFrame(Y5.iloc[i].values.reshape(1, -1).T)])"
   ]
  },
  {
   "cell_type": "code",
   "execution_count": 18,
   "metadata": {},
   "outputs": [],
   "source": [
    "x = pd.DataFrame()\n",
    "\n",
    "# Iterate over each row of the original dataframe and append the transposed row to the new dataframe\n",
    "for i in range(len(X)):\n",
    "    x = pd.concat([x, pd.DataFrame(X.iloc[i].values.reshape(1, -1).T)])"
   ]
  },
  {
   "cell_type": "code",
   "execution_count": 19,
   "metadata": {},
   "outputs": [],
   "source": [
    "y1.to_csv(\"Y1_transposed\")\n",
    "y2.to_csv(\"Y2_transposed\")\n",
    "y3.to_csv(\"Y3_transposed\")\n",
    "y4.to_csv(\"Y4_transposed\")\n",
    "y5.to_csv(\"Y5_transposed\")\n",
    "x.to_csv(\"x_transposed\")"
   ]
  },
  {
   "cell_type": "code",
   "execution_count": 20,
   "metadata": {},
   "outputs": [],
   "source": [
    "dfTest = pd.DataFrame()\n",
    "\n",
    "# Iterate over each row of the original dataframe and append the transposed row to the new dataframe\n",
    "for i in range(len(dfXTest)):\n",
    "    dfTest = pd.concat([dfTest, pd.DataFrame(dfXTest.iloc[i].values.reshape(1, -1).T)])"
   ]
  },
  {
   "cell_type": "code",
   "execution_count": 21,
   "metadata": {},
   "outputs": [],
   "source": [
    "dfTest.to_csv(\"dfTest_transposed\")\n"
   ]
  },
  {
   "cell_type": "code",
   "execution_count": 22,
   "metadata": {},
   "outputs": [],
   "source": [
    "X = pd.read_csv(\"InputTrain.csv\").iloc[:,2:]\n",
    "dfXTest = pd.read_csv(\"InputTest.csv\").iloc[:,2:]\n"
   ]
  },
  {
   "cell_type": "code",
   "execution_count": 23,
   "metadata": {},
   "outputs": [],
   "source": [
    "x = pd.DataFrame()\n",
    "\n",
    "# Iterate over each row of the original dataframe and append the transposed row to the new dataframe\n",
    "for i in range(len(X)):\n",
    "    x = pd.concat([x, pd.DataFrame(X.iloc[i].values.reshape(1, -1).T)])"
   ]
  },
  {
   "cell_type": "code",
   "execution_count": 24,
   "metadata": {},
   "outputs": [],
   "source": [
    "dfTest = pd.DataFrame()\n",
    "\n",
    "# Iterate over each row of the original dataframe and append the transposed row to the new dataframe\n",
    "for i in range(len(dfXTest)):\n",
    "    dfTest = pd.concat([dfTest, pd.DataFrame(dfXTest.iloc[i].values.reshape(1, -1).T)])"
   ]
  },
  {
   "cell_type": "code",
   "execution_count": 25,
   "metadata": {},
   "outputs": [],
   "source": [
    "x.to_csv(\"x_transposed_notNormalized.csv\")\n",
    "dfTest.to_csv(\"dfTest_transposed_notNormalized.csv\")\n"
   ]
  },
  {
   "cell_type": "code",
   "execution_count": 47,
   "metadata": {},
   "outputs": [
    {
     "data": {
      "text/html": [
       "<div>\n",
       "<style scoped>\n",
       "    .dataframe tbody tr th:only-of-type {\n",
       "        vertical-align: middle;\n",
       "    }\n",
       "\n",
       "    .dataframe tbody tr th {\n",
       "        vertical-align: top;\n",
       "    }\n",
       "\n",
       "    .dataframe thead th {\n",
       "        text-align: right;\n",
       "    }\n",
       "</style>\n",
       "<table border=\"1\" class=\"dataframe\">\n",
       "  <thead>\n",
       "    <tr style=\"text-align: right;\">\n",
       "      <th></th>\n",
       "      <th>0</th>\n",
       "    </tr>\n",
       "  </thead>\n",
       "  <tbody>\n",
       "    <tr>\n",
       "      <th>0</th>\n",
       "      <td>180.0</td>\n",
       "    </tr>\n",
       "    <tr>\n",
       "      <th>1</th>\n",
       "      <td>180.0</td>\n",
       "    </tr>\n",
       "    <tr>\n",
       "      <th>2</th>\n",
       "      <td>180.0</td>\n",
       "    </tr>\n",
       "    <tr>\n",
       "      <th>3</th>\n",
       "      <td>181.0</td>\n",
       "    </tr>\n",
       "    <tr>\n",
       "      <th>4</th>\n",
       "      <td>180.0</td>\n",
       "    </tr>\n",
       "    <tr>\n",
       "      <th>...</th>\n",
       "      <td>...</td>\n",
       "    </tr>\n",
       "    <tr>\n",
       "      <th>22509355</th>\n",
       "      <td>366.5</td>\n",
       "    </tr>\n",
       "    <tr>\n",
       "      <th>22509356</th>\n",
       "      <td>376.0</td>\n",
       "    </tr>\n",
       "    <tr>\n",
       "      <th>22509357</th>\n",
       "      <td>367.0</td>\n",
       "    </tr>\n",
       "    <tr>\n",
       "      <th>22509358</th>\n",
       "      <td>353.0</td>\n",
       "    </tr>\n",
       "    <tr>\n",
       "      <th>22509359</th>\n",
       "      <td>361.0</td>\n",
       "    </tr>\n",
       "  </tbody>\n",
       "</table>\n",
       "<p>22509360 rows × 1 columns</p>\n",
       "</div>"
      ],
      "text/plain": [
       "              0\n",
       "0         180.0\n",
       "1         180.0\n",
       "2         180.0\n",
       "3         181.0\n",
       "4         180.0\n",
       "...         ...\n",
       "22509355  366.5\n",
       "22509356  376.0\n",
       "22509357  367.0\n",
       "22509358  353.0\n",
       "22509359  361.0\n",
       "\n",
       "[22509360 rows x 1 columns]"
      ]
     },
     "execution_count": 47,
     "metadata": {},
     "output_type": "execute_result"
    }
   ],
   "source": [
    "x = pd.read_csv(\"x_transposed_notNormalized.csv\")\n",
    "x = x.drop('Unnamed: 0',axis = 1)\n",
    "x"
   ]
  },
  {
   "cell_type": "code",
   "execution_count": 51,
   "metadata": {},
   "outputs": [],
   "source": [
    "x['consumption_previous_day'] = x['0'].shift(1)\n",
    "x.loc[0, 'consumption_previous_day'] = x.consumption_previous_day[x.consumption_previous_day.notnull()].values[0]\n",
    "\n"
   ]
  },
  {
   "cell_type": "code",
   "execution_count": 52,
   "metadata": {},
   "outputs": [
    {
     "data": {
      "text/html": [
       "<div>\n",
       "<style scoped>\n",
       "    .dataframe tbody tr th:only-of-type {\n",
       "        vertical-align: middle;\n",
       "    }\n",
       "\n",
       "    .dataframe tbody tr th {\n",
       "        vertical-align: top;\n",
       "    }\n",
       "\n",
       "    .dataframe thead th {\n",
       "        text-align: right;\n",
       "    }\n",
       "</style>\n",
       "<table border=\"1\" class=\"dataframe\">\n",
       "  <thead>\n",
       "    <tr style=\"text-align: right;\">\n",
       "      <th></th>\n",
       "      <th>0</th>\n",
       "      <th>consumption_previous_day</th>\n",
       "      <th>rolling_mean</th>\n",
       "    </tr>\n",
       "  </thead>\n",
       "  <tbody>\n",
       "    <tr>\n",
       "      <th>0</th>\n",
       "      <td>180.0</td>\n",
       "      <td>180.0</td>\n",
       "      <td>NaN</td>\n",
       "    </tr>\n",
       "    <tr>\n",
       "      <th>1</th>\n",
       "      <td>180.0</td>\n",
       "      <td>180.0</td>\n",
       "      <td>NaN</td>\n",
       "    </tr>\n",
       "    <tr>\n",
       "      <th>2</th>\n",
       "      <td>180.0</td>\n",
       "      <td>180.0</td>\n",
       "      <td>180.000000</td>\n",
       "    </tr>\n",
       "    <tr>\n",
       "      <th>3</th>\n",
       "      <td>181.0</td>\n",
       "      <td>180.0</td>\n",
       "      <td>180.333333</td>\n",
       "    </tr>\n",
       "    <tr>\n",
       "      <th>4</th>\n",
       "      <td>180.0</td>\n",
       "      <td>181.0</td>\n",
       "      <td>180.333333</td>\n",
       "    </tr>\n",
       "    <tr>\n",
       "      <th>...</th>\n",
       "      <td>...</td>\n",
       "      <td>...</td>\n",
       "      <td>...</td>\n",
       "    </tr>\n",
       "    <tr>\n",
       "      <th>22509355</th>\n",
       "      <td>366.5</td>\n",
       "      <td>378.0</td>\n",
       "      <td>373.166667</td>\n",
       "    </tr>\n",
       "    <tr>\n",
       "      <th>22509356</th>\n",
       "      <td>376.0</td>\n",
       "      <td>366.5</td>\n",
       "      <td>373.500000</td>\n",
       "    </tr>\n",
       "    <tr>\n",
       "      <th>22509357</th>\n",
       "      <td>367.0</td>\n",
       "      <td>376.0</td>\n",
       "      <td>369.833333</td>\n",
       "    </tr>\n",
       "    <tr>\n",
       "      <th>22509358</th>\n",
       "      <td>353.0</td>\n",
       "      <td>367.0</td>\n",
       "      <td>365.333333</td>\n",
       "    </tr>\n",
       "    <tr>\n",
       "      <th>22509359</th>\n",
       "      <td>361.0</td>\n",
       "      <td>353.0</td>\n",
       "      <td>360.333333</td>\n",
       "    </tr>\n",
       "  </tbody>\n",
       "</table>\n",
       "<p>22509360 rows × 3 columns</p>\n",
       "</div>"
      ],
      "text/plain": [
       "              0  consumption_previous_day  rolling_mean\n",
       "0         180.0                     180.0           NaN\n",
       "1         180.0                     180.0           NaN\n",
       "2         180.0                     180.0    180.000000\n",
       "3         181.0                     180.0    180.333333\n",
       "4         180.0                     181.0    180.333333\n",
       "...         ...                       ...           ...\n",
       "22509355  366.5                     378.0    373.166667\n",
       "22509356  376.0                     366.5    373.500000\n",
       "22509357  367.0                     376.0    369.833333\n",
       "22509358  353.0                     367.0    365.333333\n",
       "22509359  361.0                     353.0    360.333333\n",
       "\n",
       "[22509360 rows x 3 columns]"
      ]
     },
     "execution_count": 52,
     "metadata": {},
     "output_type": "execute_result"
    }
   ],
   "source": [
    "x[\"rolling_mean\"] = x['0'].rolling(3).mean()\n",
    "x"
   ]
  },
  {
   "cell_type": "code",
   "execution_count": 53,
   "metadata": {},
   "outputs": [
    {
     "data": {
      "text/html": [
       "<div>\n",
       "<style scoped>\n",
       "    .dataframe tbody tr th:only-of-type {\n",
       "        vertical-align: middle;\n",
       "    }\n",
       "\n",
       "    .dataframe tbody tr th {\n",
       "        vertical-align: top;\n",
       "    }\n",
       "\n",
       "    .dataframe thead th {\n",
       "        text-align: right;\n",
       "    }\n",
       "</style>\n",
       "<table border=\"1\" class=\"dataframe\">\n",
       "  <thead>\n",
       "    <tr style=\"text-align: right;\">\n",
       "      <th></th>\n",
       "      <th>0</th>\n",
       "      <th>consumption_previous_day</th>\n",
       "      <th>rolling_mean</th>\n",
       "    </tr>\n",
       "  </thead>\n",
       "  <tbody>\n",
       "    <tr>\n",
       "      <th>0</th>\n",
       "      <td>180.0</td>\n",
       "      <td>180.0</td>\n",
       "      <td>493.976997</td>\n",
       "    </tr>\n",
       "    <tr>\n",
       "      <th>1</th>\n",
       "      <td>180.0</td>\n",
       "      <td>180.0</td>\n",
       "      <td>493.976997</td>\n",
       "    </tr>\n",
       "    <tr>\n",
       "      <th>2</th>\n",
       "      <td>180.0</td>\n",
       "      <td>180.0</td>\n",
       "      <td>180.000000</td>\n",
       "    </tr>\n",
       "    <tr>\n",
       "      <th>3</th>\n",
       "      <td>181.0</td>\n",
       "      <td>180.0</td>\n",
       "      <td>180.333333</td>\n",
       "    </tr>\n",
       "    <tr>\n",
       "      <th>4</th>\n",
       "      <td>180.0</td>\n",
       "      <td>181.0</td>\n",
       "      <td>180.333333</td>\n",
       "    </tr>\n",
       "    <tr>\n",
       "      <th>...</th>\n",
       "      <td>...</td>\n",
       "      <td>...</td>\n",
       "      <td>...</td>\n",
       "    </tr>\n",
       "    <tr>\n",
       "      <th>22509355</th>\n",
       "      <td>366.5</td>\n",
       "      <td>378.0</td>\n",
       "      <td>373.166667</td>\n",
       "    </tr>\n",
       "    <tr>\n",
       "      <th>22509356</th>\n",
       "      <td>376.0</td>\n",
       "      <td>366.5</td>\n",
       "      <td>373.500000</td>\n",
       "    </tr>\n",
       "    <tr>\n",
       "      <th>22509357</th>\n",
       "      <td>367.0</td>\n",
       "      <td>376.0</td>\n",
       "      <td>369.833333</td>\n",
       "    </tr>\n",
       "    <tr>\n",
       "      <th>22509358</th>\n",
       "      <td>353.0</td>\n",
       "      <td>367.0</td>\n",
       "      <td>365.333333</td>\n",
       "    </tr>\n",
       "    <tr>\n",
       "      <th>22509359</th>\n",
       "      <td>361.0</td>\n",
       "      <td>353.0</td>\n",
       "      <td>360.333333</td>\n",
       "    </tr>\n",
       "  </tbody>\n",
       "</table>\n",
       "<p>22509360 rows × 3 columns</p>\n",
       "</div>"
      ],
      "text/plain": [
       "              0  consumption_previous_day  rolling_mean\n",
       "0         180.0                     180.0    493.976997\n",
       "1         180.0                     180.0    493.976997\n",
       "2         180.0                     180.0    180.000000\n",
       "3         181.0                     180.0    180.333333\n",
       "4         180.0                     181.0    180.333333\n",
       "...         ...                       ...           ...\n",
       "22509355  366.5                     378.0    373.166667\n",
       "22509356  376.0                     366.5    373.500000\n",
       "22509357  367.0                     376.0    369.833333\n",
       "22509358  353.0                     367.0    365.333333\n",
       "22509359  361.0                     353.0    360.333333\n",
       "\n",
       "[22509360 rows x 3 columns]"
      ]
     },
     "execution_count": 53,
     "metadata": {},
     "output_type": "execute_result"
    }
   ],
   "source": [
    "from sklearn.impute import KNNImputer\n",
    "imputer = KNNImputer(n_neighbors=2)\n",
    "x['rolling_mean'] = imputer.fit_transform(x[['rolling_mean']])\n",
    "x"
   ]
  },
  {
   "cell_type": "code",
   "execution_count": 54,
   "metadata": {},
   "outputs": [],
   "source": [
    "import xgboost as xgb\n",
    "from sklearn.metrics import average_precision_score\n",
    "from sklearn.model_selection import train_test_split\n",
    "\n",
    "X_train, X_test, y_train, y_test = train_test_split(x,y1, test_size=0.4,random_state=42)"
   ]
  },
  {
   "cell_type": "code",
   "execution_count": 61,
   "metadata": {},
   "outputs": [
    {
     "name": "stdout",
     "output_type": "stream",
     "text": [
      "[0]\ttrain-error:0.02762\teval-error:0.02763\n"
     ]
    }
   ],
   "source": [
    "\n",
    "\n",
    "dtrain = xgb.DMatrix(X_train,label=y_train)\n",
    "dtest = xgb.DMatrix(X_test,label=y_test)\n",
    "\n",
    "model = xgb.XGBModel()\n",
    "params = {\n",
    "    'max_depth': 10,\n",
    "    'eta': 0.1,\n",
    "    'objective': 'binary:logistic',\n",
    "    'eval_metric': 'error',\n",
    "    'booster':'dart',\n",
    "    'sample_type':'weighted',\n",
    "    'normalize_type':'forest',\n",
    "    'learning_rate':0.4,\n",
    "    'tree_method':'hist',\n",
    "    'n_jobs':500,\n",
    "    'rate_drop':0.3,\n",
    "    'skip_drop':0.2,\n",
    "\n",
    "}\n",
    "\n",
    "# Train model\n",
    "evalist = [(dtrain, 'train'), (dtest, 'eval')]\n",
    "model = xgb.train(params, dtrain,early_stopping_rounds=29,num_boost_round=1000,verbose_eval=29,evals=evalist)\n",
    "\n",
    "preds = model.predict(dtest) #Predictions\n",
    "y_test = y_test.astype(float)\n",
    "optimal_num_boost_round = model.best_iteration\n",
    "\n",
    "print(\"Precision = {}\".format(average_precision_score(y_test.values, preds, average='macro')))\n",
    "print(\"Precision = {}\".format(average_precision_score(y_test.values, preds, average='weighted')))\n",
    "\n",
    "\n",
    "#Precision = 0.25674527434942446 YANIS\n",
    "#Precision = 0.4107742871167801 YANIS\n"
   ]
  },
  {
   "cell_type": "code",
   "execution_count": 60,
   "metadata": {},
   "outputs": [
    {
     "name": "stdout",
     "output_type": "stream",
     "text": [
      "29\n"
     ]
    }
   ],
   "source": [
    "print(optimal_num_boost_round)"
   ]
  }
 ],
 "metadata": {
  "kernelspec": {
   "display_name": "Python 3",
   "language": "python",
   "name": "python3"
  },
  "language_info": {
   "codemirror_mode": {
    "name": "ipython",
    "version": 3
   },
   "file_extension": ".py",
   "mimetype": "text/x-python",
   "name": "python",
   "nbconvert_exporter": "python",
   "pygments_lexer": "ipython3",
   "version": "3.10.8"
  },
  "orig_nbformat": 4
 },
 "nbformat": 4,
 "nbformat_minor": 2
}
