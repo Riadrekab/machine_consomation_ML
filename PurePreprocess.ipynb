{
  "cells": [
    {
      "cell_type": "code",
      "execution_count": 38,
      "metadata": {},
      "outputs": [],
      "source": [
        "import pandas as pd\n",
        "x = pd.read_csv(\"../x_transposed_notNormalized.csv\")\n",
        "dfxTest= pd.read_csv(\"../dfTest_transposed_notNormalized.csv\")\n",
        "\n",
        "listI = [1,10,20,60,100,120,110,90]\n",
        "for i in listI:\n",
        "    x[f'consumption_lag_{i}'] = x['0'].shift(i)\n",
        "    dfxTest[f'consumption_lag_{i}'] = dfxTest['0'].shift(i)\n",
        "\n",
        "\n",
        "# replace NaN values with previous non-NaN values\n",
        "x = x.fillna(method='bfill')\n",
        "dfxTest = dfxTest.fillna(method='bfill')\n",
        "x = x.drop('Unnamed: 0',axis = 1)\n",
        "\n",
        "dfxTest = dfxTest.drop('Unnamed: 0',axis = 1)\n"
      ]
    },
    {
      "cell_type": "code",
      "execution_count": 39,
      "metadata": {
        "id": "PD6_4C4pR9GZ"
      },
      "outputs": [],
      "source": [
        "x[\"rolling_std2\"] = x['0'].rolling(2).std()\n",
        "x[\"rolling_std3\"] = x['0'].rolling(3).std()\n",
        "\n",
        "dfxTest[\"rolling_std2\"] = dfxTest['0'].rolling(2).std()\n",
        "dfxTest[\"rolling_std3\"] = dfxTest['0'].rolling(3).std()\n",
        "\n"
      ]
    },
    {
      "cell_type": "code",
      "execution_count": 40,
      "metadata": {
        "id": "L6rZaereVBet"
      },
      "outputs": [],
      "source": [
        "\n",
        "x['rolling_std2'] = x['rolling_std2'].interpolate(method='linear', limit_direction='both')\n",
        "x['rolling_std3'] = x['rolling_std3'].interpolate(method='linear', limit_direction='both')\n",
        "\n",
        "\n",
        "dfxTest['rolling_std2'] = dfxTest['rolling_std2'].interpolate(method='linear', limit_direction='both')\n",
        "dfxTest['rolling_std3'] = dfxTest['rolling_std3'].interpolate(method='linear', limit_direction='both')\n",
        "\n"
      ]
    },
    {
      "cell_type": "code",
      "execution_count": 41,
      "metadata": {
        "colab": {
          "base_uri": "https://localhost:8080/",
          "height": 488
        },
        "id": "c43jDGklSf8w",
        "outputId": "0b7b05f0-b5b9-44c4-e670-8b5f91f2570e"
      },
      "outputs": [],
      "source": [
        "x.to_csv('../x-moreRounds2.csv')"
      ]
    },
    {
      "cell_type": "code",
      "execution_count": null,
      "metadata": {},
      "outputs": [],
      "source": [
        "dfxTest.to_csv('../test-MoreRounds2.csv')"
      ]
    }
  ],
  "metadata": {
    "accelerator": "GPU",
    "colab": {
      "provenance": []
    },
    "gpuClass": "standard",
    "kernelspec": {
      "display_name": "Python 3",
      "language": "python",
      "name": "python3"
    },
    "language_info": {
      "codemirror_mode": {
        "name": "ipython",
        "version": 3
      },
      "file_extension": ".py",
      "mimetype": "text/x-python",
      "name": "python",
      "nbconvert_exporter": "python",
      "pygments_lexer": "ipython3",
      "version": "3.8.8"
    },
    "orig_nbformat": 4
  },
  "nbformat": 4,
  "nbformat_minor": 0
}
