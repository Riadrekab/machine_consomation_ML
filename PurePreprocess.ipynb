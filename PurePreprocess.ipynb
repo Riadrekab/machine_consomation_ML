{
  "cells": [
    {
      "cell_type": "code",
      "execution_count": 1,
      "metadata": {},
      "outputs": [],
      "source": [
        "import pandas as pd\n",
        "x = pd.read_csv(\"../x_transposed_notNormalized.csv\")\n",
        "dfxTest= pd.read_csv(\"../dfTest_transposed_notNormalized.csv\")\n",
        "\n",
        "listI = [10,20,50,60,65,70,80,90,100,120,110]\n",
        "for i in listI:\n",
        "    x[f'consumption_lag_{i}'] = x['0'].shift(i)\n",
        "    dfxTest[f'consumption_lag_{i}'] = dfxTest['0'].shift(i)\n",
        "\n",
        "\n",
        "# replace NaN values with previous non-NaN values\n",
        "x = x.fillna(method='bfill')\n",
        "dfxTest = dfxTest.fillna(method='bfill')\n",
        "x = x.drop('Unnamed: 0',axis = 1)\n",
        "\n",
        "dfxTest = dfxTest.drop('Unnamed: 0',axis = 1)\n"
      ]
    },
    {
      "cell_type": "code",
      "execution_count": 2,
      "metadata": {},
      "outputs": [],
      "source": [
        "x['rolling_skewness20'] = x['0'].rolling(20).skew()\n",
        "dfxTest['rolling_skewness20'] = dfxTest['0'].rolling(20).skew()\n",
        "x['rolling_kurtosis20'] = x['0'].rolling(20).kurt()\n",
        "dfxTest['rolling_kurtosis20'] = dfxTest['0'].rolling(20).kurt() \n",
        "\n",
        "\n"
      ]
    },
    {
      "cell_type": "code",
      "execution_count": 3,
      "metadata": {
        "id": "PD6_4C4pR9GZ"
      },
      "outputs": [],
      "source": [
        "x[\"rolling_std2\"] = x['0'].rolling(2).std()\n",
        "x[\"rolling_std3\"] = x['0'].rolling(3).std()\n",
        "\n",
        "dfxTest[\"rolling_std2\"] = dfxTest['0'].rolling(2).std()\n",
        "dfxTest[\"rolling_std3\"] = dfxTest['0'].rolling(3).std()\n",
        "\n"
      ]
    },
    {
      "cell_type": "code",
      "execution_count": 4,
      "metadata": {
        "id": "L6rZaereVBet"
      },
      "outputs": [],
      "source": [
        "x['rolling_std2'] = x['rolling_std2'].interpolate(method='linear', limit_direction='both')\n",
        "x['rolling_std3'] = x['rolling_std3'].interpolate(method='linear', limit_direction='both')\n",
        "dfxTest['rolling_std2'] = dfxTest['rolling_std2'].interpolate(method='linear', limit_direction='both')\n",
        "dfxTest['rolling_std3'] = dfxTest['rolling_std3'].interpolate(method='linear', limit_direction='both')\n",
        "\n",
        "x['rolling_skewness20'] = x['rolling_skewness20'].interpolate(method='linear', limit_direction='both')\n",
        "\n",
        "x['rolling_kurtosis20'] = x['rolling_kurtosis20'].interpolate(method='linear', limit_direction='both')\n",
        "\n",
        "dfxTest['rolling_skewness20'] = dfxTest['rolling_skewness20'].interpolate(method='linear', limit_direction='both')\n",
        "\n",
        "dfxTest['rolling_kurtosis20'] = dfxTest['rolling_kurtosis20'].interpolate(method='linear', limit_direction='both')"
      ]
    },
    {
      "cell_type": "code",
      "execution_count": 5,
      "metadata": {},
      "outputs": [],
      "source": [
        "import numpy as np\n",
        "from scipy.signal import argrelmax, argrelmin\n",
        "\n",
        "def time_since_last_extreme(data, find_extreme_func):\n",
        "    extreme_indices, = find_extreme_func(data)  # Unpack the tuple\n",
        "    time_since_last_extreme = np.zeros_like(data)\n",
        "    for idx in range(1, len(extreme_indices)):\n",
        "        time_since_last_extreme[extreme_indices[idx-1]:extreme_indices[idx]] = np.arange(extreme_indices[idx] - extreme_indices[idx-1])\n",
        "    time_since_last_extreme[extreme_indices[-1]:] = np.arange(len(data) - extreme_indices[-1])\n",
        "    return time_since_last_extreme\n",
        "\n",
        "x['time_since_last_max'] = time_since_last_extreme(x['0'].values, argrelmax)\n",
        "x['time_since_last_min'] = time_since_last_extreme(x['0'].values, argrelmin)\n",
        "dfxTest['time_since_last_max'] = time_since_last_extreme(dfxTest['0'].values, argrelmax)\n",
        "dfxTest['time_since_last_min'] = time_since_last_extreme(dfxTest['0'].values, argrelmin)"
      ]
    },
    {
      "cell_type": "code",
      "execution_count": 6,
      "metadata": {
        "colab": {
          "base_uri": "https://localhost:8080/",
          "height": 488
        },
        "id": "c43jDGklSf8w",
        "outputId": "0b7b05f0-b5b9-44c4-e670-8b5f91f2570e"
      },
      "outputs": [],
      "source": [
        "x.to_csv('../x-LagIsTheOG.csv')"
      ]
    },
    {
      "cell_type": "code",
      "execution_count": 7,
      "metadata": {},
      "outputs": [],
      "source": [
        "dfxTest.to_csv('../test-LagIsTheOG.csv')"
      ]
    },
    {
      "cell_type": "code",
      "execution_count": 11,
      "metadata": {},
      "outputs": [],
      "source": [
        "y1= pd.read_csv(\"../Y1_transposed.csv\")\n",
        "y2= pd.read_csv(\"../Y2_transposed.csv\")\n",
        "y3= pd.read_csv(\"../Y3_transposed.csv\")\n",
        "y4= pd.read_csv(\"../Y4_transposed.csv\")\n",
        "y5= pd.read_csv(\"../Y5_transposed.csv\")"
      ]
    },
    {
      "cell_type": "code",
      "execution_count": 13,
      "metadata": {},
      "outputs": [],
      "source": [
        "y = pd.DataFrame()\n"
      ]
    },
    {
      "cell_type": "code",
      "execution_count": 15,
      "metadata": {},
      "outputs": [
        {
          "data": {
            "text/html": [
              "<div>\n",
              "<style scoped>\n",
              "    .dataframe tbody tr th:only-of-type {\n",
              "        vertical-align: middle;\n",
              "    }\n",
              "\n",
              "    .dataframe tbody tr th {\n",
              "        vertical-align: top;\n",
              "    }\n",
              "\n",
              "    .dataframe thead th {\n",
              "        text-align: right;\n",
              "    }\n",
              "</style>\n",
              "<table border=\"1\" class=\"dataframe\">\n",
              "  <thead>\n",
              "    <tr style=\"text-align: right;\">\n",
              "      <th></th>\n",
              "      <th>Unnamed: 0</th>\n",
              "      <th>0</th>\n",
              "    </tr>\n",
              "  </thead>\n",
              "  <tbody>\n",
              "    <tr>\n",
              "      <th>0</th>\n",
              "      <td>0</td>\n",
              "      <td>0.0</td>\n",
              "    </tr>\n",
              "    <tr>\n",
              "      <th>1</th>\n",
              "      <td>1</td>\n",
              "      <td>0.0</td>\n",
              "    </tr>\n",
              "    <tr>\n",
              "      <th>2</th>\n",
              "      <td>2</td>\n",
              "      <td>0.0</td>\n",
              "    </tr>\n",
              "    <tr>\n",
              "      <th>3</th>\n",
              "      <td>3</td>\n",
              "      <td>0.0</td>\n",
              "    </tr>\n",
              "    <tr>\n",
              "      <th>4</th>\n",
              "      <td>4</td>\n",
              "      <td>0.0</td>\n",
              "    </tr>\n",
              "    <tr>\n",
              "      <th>...</th>\n",
              "      <td>...</td>\n",
              "      <td>...</td>\n",
              "    </tr>\n",
              "    <tr>\n",
              "      <th>22509355</th>\n",
              "      <td>2155</td>\n",
              "      <td>0.0</td>\n",
              "    </tr>\n",
              "    <tr>\n",
              "      <th>22509356</th>\n",
              "      <td>2156</td>\n",
              "      <td>0.0</td>\n",
              "    </tr>\n",
              "    <tr>\n",
              "      <th>22509357</th>\n",
              "      <td>2157</td>\n",
              "      <td>0.0</td>\n",
              "    </tr>\n",
              "    <tr>\n",
              "      <th>22509358</th>\n",
              "      <td>2158</td>\n",
              "      <td>0.0</td>\n",
              "    </tr>\n",
              "    <tr>\n",
              "      <th>22509359</th>\n",
              "      <td>2159</td>\n",
              "      <td>0.0</td>\n",
              "    </tr>\n",
              "  </tbody>\n",
              "</table>\n",
              "<p>22509360 rows × 2 columns</p>\n",
              "</div>"
            ],
            "text/plain": [
              "          Unnamed: 0    0\n",
              "0                  0  0.0\n",
              "1                  1  0.0\n",
              "2                  2  0.0\n",
              "3                  3  0.0\n",
              "4                  4  0.0\n",
              "...              ...  ...\n",
              "22509355        2155  0.0\n",
              "22509356        2156  0.0\n",
              "22509357        2157  0.0\n",
              "22509358        2158  0.0\n",
              "22509359        2159  0.0\n",
              "\n",
              "[22509360 rows x 2 columns]"
            ]
          },
          "execution_count": 15,
          "metadata": {},
          "output_type": "execute_result"
        }
      ],
      "source": [
        "y1"
      ]
    },
    {
      "cell_type": "code",
      "execution_count": 21,
      "metadata": {},
      "outputs": [],
      "source": [
        "y1 = y1.drop('Unnamed: 0',axis = 1)\n",
        "y2 = y2.drop('Unnamed: 0',axis = 1)\n",
        "y3 = y3.drop('Unnamed: 0',axis = 1)\n",
        "y4 = y4.drop('Unnamed: 0',axis = 1)\n",
        "y5 = y5.drop('Unnamed: 0',axis = 1)"
      ]
    },
    {
      "cell_type": "code",
      "execution_count": 24,
      "metadata": {},
      "outputs": [],
      "source": [
        "y[\"Washing Machine\"] = y1\n",
        "y[\"Dishwasher\"] = y2\n",
        "y[\"Tumble Dryer\"] = y3\n",
        "y[\"Microwave\"] = y4\n",
        "y[\"Kettle\"] = y5\n",
        "\n"
      ]
    },
    {
      "cell_type": "code",
      "execution_count": 26,
      "metadata": {},
      "outputs": [],
      "source": [
        "y.drop('Unnamed: 0',axis=1).to_csv('../y_ready2.csv')"
      ]
    },
    {
      "cell_type": "code",
      "execution_count": null,
      "metadata": {},
      "outputs": [],
      "source": []
    }
  ],
  "metadata": {
    "accelerator": "GPU",
    "colab": {
      "provenance": []
    },
    "gpuClass": "standard",
    "kernelspec": {
      "display_name": "Python 3",
      "language": "python",
      "name": "python3"
    },
    "language_info": {
      "codemirror_mode": {
        "name": "ipython",
        "version": 3
      },
      "file_extension": ".py",
      "mimetype": "text/x-python",
      "name": "python",
      "nbconvert_exporter": "python",
      "pygments_lexer": "ipython3",
      "version": "3.8.8"
    },
    "orig_nbformat": 4
  },
  "nbformat": 4,
  "nbformat_minor": 0
}
