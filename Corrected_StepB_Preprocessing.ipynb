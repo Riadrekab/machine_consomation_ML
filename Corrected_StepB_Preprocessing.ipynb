{
  "cells": [
    {
      "cell_type": "code",
      "source": [
        "from google.colab import drive#On monte le drive pour charger les datasets depuis google drive (optionnel)\n",
        "drive.mount('/content/gdrive/', force_remount=True)\n",
        "%cd gdrive/MyDrive/"
      ],
      "metadata": {
        "colab": {
          "base_uri": "https://localhost:8080/"
        },
        "id": "RO5tTRsIhKZv",
        "outputId": "2abc9e8d-54ad-4f45-d43a-e67d41625cc5"
      },
      "execution_count": 1,
      "outputs": [
        {
          "output_type": "stream",
          "name": "stdout",
          "text": [
            "Mounted at /content/gdrive/\n",
            "/content/gdrive/MyDrive\n"
          ]
        }
      ]
    },
    {
      "cell_type": "code",
      "execution_count": 30,
      "metadata": {
        "id": "Tbw8MuJ7gzL7"
      },
      "outputs": [],
      "source": [
        "import pandas as pd\n",
        "\n",
        "X = pd.read_csv(\"InputTrain.csv\").iloc[:,2:]\n",
        "Y1 = pd.read_csv(\"StepTwo_LabelTrain_WashingMachine.csv\").iloc[:,2:]\n",
        "Y2 = pd.read_csv(\"StepTwo_LabelTrain_Dishwasher.csv\").iloc[:,2:]\n",
        "Y3 = pd.read_csv(\"StepTwo_LabelTrain_TumbleDryer.csv\").iloc[:,2:]\n",
        "Y4 = pd.read_csv(\"StepTwo_LabelTrain_Microwave.csv\").iloc[:,2:]\n",
        "Y5 = pd.read_csv(\"StepTwo_LabelTrain_Kettle.csv\").iloc[:,2:]\n",
        "dfXTest = pd.read_csv(\"InputTest.csv\").iloc[:,2:]\n"
      ]
    },
    {
      "cell_type": "code",
      "source": [
        "X = X.transpose().melt()\n",
        "Y1 = Y1.transpose().melt().drop('variable',axis = 1)\n",
        "Y2 = Y2.transpose().melt().drop('variable',axis = 1)\n",
        "Y3 = Y3.transpose().melt().drop('variable',axis = 1)\n",
        "Y4 = Y4.transpose().melt().drop('variable',axis = 1)\n",
        "Y5 = Y5.transpose().melt().drop('variable',axis = 1)\n",
        "dfXTest = dfXTest.transpose().melt()\n",
        "y= pd.DataFrame()\n",
        "y[\"Washing Machine\"] = Y1\n",
        "y[\"Dishwasher\"] = Y2\n",
        "y[\"Tumble Dryer\"] = Y3\n",
        "y[\"Microwave\"] = Y4\n",
        "y[\"Kettle\"] = Y5\n",
        "\n",
        "X.to_csv(\"Final_InputTrain.csv\")\n",
        "y.to_csv(\"Final_Merged_Labels.csv\")\n",
        "dfXTest.to_csv(\"Final_InputTest.csv\")"
      ],
      "metadata": {
        "id": "L9OSOK_-iePG"
      },
      "execution_count": 31,
      "outputs": []
    }
  ],
  "metadata": {
    "kernelspec": {
      "display_name": "Python 3",
      "language": "python",
      "name": "python3"
    },
    "language_info": {
      "codemirror_mode": {
        "name": "ipython",
        "version": 3
      },
      "file_extension": ".py",
      "mimetype": "text/x-python",
      "name": "python",
      "nbconvert_exporter": "python",
      "pygments_lexer": "ipython3",
      "version": "3.10.8"
    },
    "orig_nbformat": 4,
    "colab": {
      "provenance": []
    }
  },
  "nbformat": 4,
  "nbformat_minor": 0
}