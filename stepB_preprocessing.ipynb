{
  "nbformat": 4,
  "nbformat_minor": 0,
  "metadata": {
    "colab": {
      "provenance": []
    },
    "kernelspec": {
      "name": "python3",
      "display_name": "Python 3"
    },
    "language_info": {
      "name": "python"
    }
  },
  "cells": [
    {
      "cell_type": "markdown",
      "source": [
        "# **Preprocessing these datasets in the correct formats is too time and resources consuming to do it on every execution, so we export the final dataframes to csv to reuse them directly elsewhere**"
      ],
      "metadata": {
        "id": "fEK79Pq6-hkt"
      }
    },
    {
      "cell_type": "code",
      "execution_count": 1,
      "metadata": {
        "colab": {
          "base_uri": "https://localhost:8080/"
        },
        "id": "cQXXnrdit0y-",
        "outputId": "752e029d-40b1-4841-e686-ef05ff732a5d"
      },
      "outputs": [
        {
          "output_type": "stream",
          "name": "stdout",
          "text": [
            "Mounted at /content/gdrive/\n",
            "/content/gdrive/MyDrive\n"
          ]
        }
      ],
      "source": [
        "from google.colab import drive#On monte le drive pour charger les datasets depuis google drive (optionnel)\n",
        "drive.mount('/content/gdrive/', force_remount=True)\n",
        "%cd gdrive/MyDrive/"
      ]
    },
    {
      "cell_type": "code",
      "source": [
        "import pandas as pd\n",
        "\n",
        "X = pd.read_csv(\"InputTrain.csv\").iloc[:,2:]\n",
        "Y1 = pd.read_csv(\"StepTwo_LabelTrain_WashingMachine.csv\").iloc[:,2:]\n",
        "Y2 = pd.read_csv(\"StepTwo_LabelTrain_Dishwasher.csv\").iloc[:,2:]\n",
        "Y3 = pd.read_csv(\"StepTwo_LabelTrain_TumbleDryer.csv\").iloc[:,2:]\n",
        "Y4 = pd.read_csv(\"StepTwo_LabelTrain_Microwave.csv\").iloc[:,2:]\n",
        "Y5 = pd.read_csv(\"StepTwo_LabelTrain_Kettle.csv\").iloc[:,2:]\n",
        "dfXTest = pd.read_csv(\"InputTest.csv\").iloc[:,2:]\n"
      ],
      "metadata": {
        "id": "bzq0cpRVt_Zy"
      },
      "execution_count": 2,
      "outputs": []
    },
    {
      "cell_type": "code",
      "source": [
        "y1 = Y1.melt().iloc[:,1]\n",
        "y2 = Y2.melt().iloc[:,1]\n",
        "y3 = Y3.melt().iloc[:,1]\n",
        "y4 = Y4.melt().iloc[:,1]\n",
        "y5 = Y5.melt().iloc[:,1]\n",
        "\n",
        "y= pd.DataFrame()\n",
        "y[\"Washing Machine\"] = y1\n",
        "y[\"Dishwasher\"] = y2\n",
        "y[\"Tumble Dryer\"] = y3\n",
        "y[\"Microwave\"] = y4\n",
        "y[\"Kettle\"] = y5\n",
        "\n",
        "\n",
        "import re\n",
        "def extract_numbers(text):\n",
        "    numbers = re.findall(r'\\d+', text)\n",
        "    return int(''.join(numbers))\n",
        "\n",
        "X = X.melt()\n",
        "X['variable'] = X['variable'].apply(extract_numbers)\n",
        "X = X.rename(columns={'variable': 'Serie_number'})\n",
        "\n",
        "dfXTest = dfXTest.melt()\n",
        "dfXTest['variable'] = dfXTest['variable'].apply(extract_numbers)\n",
        "dfXTest = dfXTest.rename(columns={'variable': 'Serie_number'})\n",
        "\n",
        "X.to_csv(\"Melted_Train.csv\", index=False)\n",
        "y.to_csv(\"Melted_Fused_Labels.csv\", index=False)\n",
        "dfXTest.to_csv(\"Melted_Test.csv\", index=False)"
      ],
      "metadata": {
        "id": "THtr25iuyPFi"
      },
      "execution_count": 3,
      "outputs": []
    }
  ]
}
