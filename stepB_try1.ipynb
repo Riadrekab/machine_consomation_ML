{
  "nbformat": 4,
  "nbformat_minor": 0,
  "metadata": {
    "colab": {
      "provenance": []
    },
    "kernelspec": {
      "name": "python3",
      "display_name": "Python 3"
    },
    "language_info": {
      "name": "python"
    },
    "accelerator": "GPU",
    "gpuClass": "standard"
  },
  "cells": [
    {
      "cell_type": "code",
      "execution_count": 1,
      "metadata": {
        "colab": {
          "base_uri": "https://localhost:8080/"
        },
        "id": "GTQ3kINvA2S1",
        "outputId": "e20604e2-a795-43f3-e452-e522a1edd4e2"
      },
      "outputs": [
        {
          "output_type": "stream",
          "name": "stdout",
          "text": [
            "Mounted at /content/gdrive/\n",
            "/content/gdrive/MyDrive\n"
          ]
        }
      ],
      "source": [
        "from google.colab import drive#On monte le drive pour charger les datasets depuis google drive (optionnel)\n",
        "drive.mount('/content/gdrive/', force_remount=True)\n",
        "%cd gdrive/MyDrive/"
      ]
    },
    {
      "cell_type": "code",
      "source": [
        "import pandas as pd\n",
        "X = pd.read_csv(\"Melted_Train.csv\")\n",
        "y = pd.read_csv(\"Melted_Fused_Labels.csv\")\n",
        "dfXTest = pd.read_csv(\"Melted_Test.csv\")\n"
      ],
      "metadata": {
        "id": "ukGIuSTQA7yi"
      },
      "execution_count": 2,
      "outputs": []
    },
    {
      "cell_type": "code",
      "source": [
        "import xgboost as xgb\n",
        "from sklearn.metrics import average_precision_score\n",
        "from sklearn.model_selection import train_test_split\n",
        "\n",
        "X_train, X_test, y_train, y_test = train_test_split(X,y, test_size=0.4,random_state=42)\n",
        "\n",
        "dtrain = xgb.DMatrix(X_train,label=y_train)\n",
        "dtest = xgb.DMatrix(X_test,label=y_test)\n",
        "\n",
        "model = xgb.XGBModel()\n",
        "params = {\n",
        "    'max_depth': 10,\n",
        "    'eta': 0.1,\n",
        "    'objective': 'binary:logistic',\n",
        "    'eval_metric': 'error',\n",
        "    'booster':'dart',\n",
        "    'sample_type':'weighted',\n",
        "    'normalize_type':'forest',\n",
        "    'learning_rate':0.4,\n",
        "    'tree_method':'gpu_hist',\n",
        "    'n_jobs':500,\n",
        "    'rate_drop':0.3,\n",
        "    'skip_drop':0.2,\n",
        "\n",
        "}\n",
        "\n",
        "# Train model\n",
        "evalist = [(dtrain, 'train'), (dtest, 'eval')]\n",
        "model = xgb.train(params, dtrain,num_boost_round=200,verbose_eval=1)\n",
        "\n",
        "preds = model.predict(dtest) #Predictions\n",
        "y_test = y_test.astype(float)\n",
        "print(\"Precision = {}\".format(average_precision_score(y_test.values, preds, average='macro')))\n",
        "print(\"Precision = {}\".format(average_precision_score(y_test.values, preds, average='weighted')))\n"
      ],
      "metadata": {
        "colab": {
          "base_uri": "https://localhost:8080/"
        },
        "id": "o8sUTZLlCPVw",
        "outputId": "bdf67c60-9ee3-496d-ad9c-c9400cf24ef5"
      },
      "execution_count": 7,
      "outputs": [
        {
          "output_type": "stream",
          "name": "stdout",
          "text": [
            "Precision = 0.25674527434942446\n",
            "Precision = 0.4107742871167801\n"
          ]
        }
      ]
    },
    {
      "cell_type": "code",
      "source": [
        "dFin = xgb.DMatrix(dfXTest)\n",
        "preds_f = model.predict(dFin)\n",
        "\n",
        "dfF = pd.DataFrame(preds_f, columns=[\"Washing Machine\",\"Dishwasher\",\"Tumble Dryer\",\"Microwave\",\"Kettle\"])\n",
        "dfF = dfF.rename_axis('Index')\n",
        "dfF.to_csv(\"no_features_baseline.csv\")"
      ],
      "metadata": {
        "id": "LGWJBDm4Dc4U"
      },
      "execution_count": 8,
      "outputs": []
    }
  ]
}
