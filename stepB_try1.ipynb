{
  "cells": [
    {
      "cell_type": "code",
      "execution_count": null,
      "metadata": {
        "id": "GTQ3kINvA2S1"
      },
      "outputs": [],
      "source": [
        "from google.colab import drive#On monte le drive pour charger les datasets depuis google drive (optionnel)\n",
        "drive.mount('/content/gdrive/', force_remount=True)\n",
        "%cd gdrive/MyDrive/"
      ]
    },
    {
      "cell_type": "code",
      "execution_count": null,
      "metadata": {
        "id": "ukGIuSTQA7yi"
      },
      "outputs": [],
      "source": [
        "import pandas as pd\n",
        "X = pd.read_csv(\"/content/gdrive/MyDrive/M1 AI/Data Science/Project/step2/Melted_Train2.csv\")\n",
        "y = pd.read_csv(\"/content/gdrive/MyDrive/M1 AI/Data Science/Project/step2/Melted_Fused_Labels3.csv\")\n",
        "dfXTest = pd.read_csv(\"/content/gdrive/MyDrive/M1 AI/Data Science/Project/step2/Melted_Test2.csv\")\n"
      ]
    },
    {
      "cell_type": "code",
      "execution_count": null,
      "metadata": {
        "id": "o8sUTZLlCPVw"
      },
      "outputs": [],
      "source": [
        "import xgboost as xgb\n",
        "from sklearn.metrics import average_precision_score\n",
        "from sklearn.model_selection import train_test_split\n",
        "\n",
        "X_train, X_test, y_train, y_test = train_test_split(X,y, test_size=0.4,random_state=42)\n",
        "\n",
        "dtrain = xgb.DMatrix(X_train,label=y_train)\n",
        "dtest = xgb.DMatrix(X_test,label=y_test)\n",
        "\n",
        "model = xgb.XGBModel()\n",
        "params = {\n",
        "    'max_depth': 10,\n",
        "    'eta': 0.1,\n",
        "    'objective': 'binary:logistic',\n",
        "    'eval_metric': 'error',\n",
        "    'booster':'dart',\n",
        "    'sample_type':'weighted',\n",
        "    'normalize_type':'forest',\n",
        "    'learning_rate':0.4,\n",
        "    'tree_method':'gpu_hist',\n",
        "    'n_jobs':500,\n",
        "    'rate_drop':0.3,\n",
        "    'skip_drop':0.2,\n",
        "\n",
        "}\n",
        "\n",
        "# Train model\n",
        "evalist = [(dtrain, 'train'), (dtest, 'eval')]\n",
        "model = xgb.train(params, dtrain,num_boost_round=70,verbose_eval=1)\n",
        "\n",
        "preds = model.predict(dtest) #Predictions\n",
        "y_test = y_test.astype(float)\n",
        "print(\"Precision = {}\".format(average_precision_score(y_test.values, preds, average='macro')))\n",
        "print(\"Precision = {}\".format(average_precision_score(y_test.values, preds, average='weighted')))\n",
        "\n",
        "\n",
        "#Precision = 0.25674527434942446 YANIS\n",
        "#Precision = 0.4107742871167801 YANIS\n"
      ]
    },
    {
      "cell_type": "code",
      "execution_count": null,
      "metadata": {
        "id": "LGWJBDm4Dc4U"
      },
      "outputs": [],
      "source": [
        "lag_window = 3\n",
        "\n",
        "for i in range(1, lag_window+1):\n",
        "    dfXTest[f'lag_{i}'] = dfXTest['value'].shift(i)\n",
        "\n",
        "dfXTest['rolling_mean-3'] = dfXTest['value'].rolling(window=3).mean()\n",
        "dfXTest['rolling_mean-6'] = dfXTest['value'].rolling(window=6).mean()\n",
        "\n",
        "\n",
        "dFin = xgb.DMatrix(dfXTest)\n",
        "\n",
        "preds_f = model.predict(dFin)\n",
        "\n",
        "dfF = pd.DataFrame(preds_f, columns=[\"Washing Machine\",\"Dishwasher\",\"Tumble Dryer\",\"Microwave\",\"Kettle\"])\n",
        "dfF = dfF.rename_axis('Index')\n",
        "dfF.to_csv(\"no_features_baseline.csv\")"
      ]
    },
    {
      "cell_type": "code",
      "execution_count": null,
      "metadata": {
        "id": "moPXbT_z4xkK"
      },
      "outputs": [],
      "source": [
        "dfF.to_csv(\"/content/gdrive/MyDrive/M1 AI/Data Science/Project/step2/no_features_baseline.csv\")\n"
      ]
    }
  ],
  "metadata": {
    "accelerator": "GPU",
    "colab": {
      "provenance": []
    },
    "gpuClass": "standard",
    "kernelspec": {
      "display_name": "Python 3",
      "name": "python3"
    },
    "language_info": {
      "name": "python"
    }
  },
  "nbformat": 4,
  "nbformat_minor": 0
}
